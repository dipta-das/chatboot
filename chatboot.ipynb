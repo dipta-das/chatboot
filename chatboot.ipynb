{
  "nbformat": 4,
  "nbformat_minor": 0,
  "metadata": {
    "colab": {
      "name": "chatboot.ipynb",
      "provenance": [],
      "authorship_tag": "ABX9TyODRIdhizHUSRb1IAYfNu2Y"
    },
    "kernelspec": {
      "name": "python3",
      "display_name": "Python 3"
    }
  },
  "cells": [
    {
      "cell_type": "code",
      "metadata": {
        "id": "wksQc8JcLIyY",
        "colab_type": "code",
        "colab": {}
      },
      "source": [
        "import nltk\n",
        "nltk.download(\"all-corpora\")\n"
      ],
      "execution_count": 0,
      "outputs": []
    },
    {
      "cell_type": "code",
      "metadata": {
        "id": "_IpUkGHpoVm5",
        "colab_type": "code",
        "colab": {}
      },
      "source": [
        "import nltk\n",
        "import numpy as np\n",
        "import random\n",
        "import string"
      ],
      "execution_count": 0,
      "outputs": []
    },
    {
      "cell_type": "code",
      "metadata": {
        "id": "HZEe0UOnqxTL",
        "colab_type": "code",
        "colab": {}
      },
      "source": [
        "from google.colab import drive \n",
        "drive.mount('/content/gdrive')\n",
        "\n",
        "\n",
        "!ls \"/content/gdrive/My Drive/Dataset\""
      ],
      "execution_count": 0,
      "outputs": []
    },
    {
      "cell_type": "code",
      "metadata": {
        "id": "CJ58np3l0jdo",
        "colab_type": "code",
        "colab": {}
      },
      "source": [
        ""
      ],
      "execution_count": 0,
      "outputs": []
    },
    {
      "cell_type": "code",
      "metadata": {
        "id": "9yQk8KUOr9wS",
        "colab_type": "code",
        "colab": {}
      },
      "source": [
        "import pandas as pd\n",
        "\n",
        "df = pd.read_csv('/content/gdrive/My Drive/Dataset/chatbot1.txt',encoding = \"cp1252\", header=None, sep='\\n')"
      ],
      "execution_count": 0,
      "outputs": []
    },
    {
      "cell_type": "code",
      "metadata": {
        "id": "jXDKdNJnyR5Z",
        "colab_type": "code",
        "colab": {}
      },
      "source": [
        "df.applymap(str.lower)"
      ],
      "execution_count": 0,
      "outputs": []
    },
    {
      "cell_type": "code",
      "metadata": {
        "id": "1k0n1U7H08X4",
        "colab_type": "code",
        "colab": {}
      },
      "source": [
        "type(df)"
      ],
      "execution_count": 0,
      "outputs": []
    },
    {
      "cell_type": "code",
      "metadata": {
        "id": "smBLbyN90bBx",
        "colab_type": "code",
        "colab": {}
      },
      "source": [
        "nltk.download('punkt')"
      ],
      "execution_count": 0,
      "outputs": []
    },
    {
      "cell_type": "code",
      "metadata": {
        "id": "fgBizS3L0lXv",
        "colab_type": "code",
        "colab": {}
      },
      "source": [
        "nltk.download('wordnet')"
      ],
      "execution_count": 0,
      "outputs": []
    },
    {
      "cell_type": "code",
      "metadata": {
        "id": "s4alcsbH0psQ",
        "colab_type": "code",
        "colab": {}
      },
      "source": [
        "sent_tokens = nltk.sent_tokenize(df.to_string())\n",
        "word_tokens = nltk.word_tokenize(df.to_string())"
      ],
      "execution_count": 0,
      "outputs": []
    },
    {
      "cell_type": "code",
      "metadata": {
        "id": "GU2kTkzE1kzR",
        "colab_type": "code",
        "colab": {}
      },
      "source": [
        "lemmer = nltk.stem.WordNetLemmatizer()\n",
        "\n",
        "def LemTokens(tokens):\n",
        "  return [lemmer.lemmatize(token) for token in tokens]\n",
        "remove_punct_dict = dict((ord(punct), None) for punct in string.punctuation)\n",
        "def LemNormalize(text):\n",
        "    return LemTokens(nltk.word_tokenize(text.lower().translate(remove_punct_dict)))"
      ],
      "execution_count": 0,
      "outputs": []
    },
    {
      "cell_type": "code",
      "metadata": {
        "id": "ZYpIq8m-2ZKq",
        "colab_type": "code",
        "colab": {}
      },
      "source": [
        "GREETING_INPUTS = (\"hello\", \"hi\", \"greetings\", \"sup\", \"what's up\",\"hey\",)\n",
        "GREETING_RESPONSES = [\"hi\", \"hey\", \"*nods*\", \"hi there\", \"hello\", \"I am glad! You are talking to me\"]\n",
        "\n",
        "def greeting(sentence):\n",
        " \n",
        "    for word in sentence.split():\n",
        "        if word.lower() in GREETING_INPUTS:\n",
        "            return random.choice(GREETING_RESPONSES)"
      ],
      "execution_count": 0,
      "outputs": []
    },
    {
      "cell_type": "code",
      "metadata": {
        "id": "7ROp2ewy2o7y",
        "colab_type": "code",
        "colab": {}
      },
      "source": [
        "from sklearn.feature_extraction.text import TfidfVectorizer"
      ],
      "execution_count": 0,
      "outputs": []
    },
    {
      "cell_type": "code",
      "metadata": {
        "id": "Se3igv1b2qbJ",
        "colab_type": "code",
        "colab": {}
      },
      "source": [
        "from sklearn.metrics.pairwise import cosine_similarity"
      ],
      "execution_count": 0,
      "outputs": []
    },
    {
      "cell_type": "code",
      "metadata": {
        "id": "RU7wo05f2w9h",
        "colab_type": "code",
        "colab": {}
      },
      "source": [
        "def response(user_response):\n",
        "    robo_response=''\n",
        "    sent_tokens.append(user_response)    \n",
        "    TfidfVec = TfidfVectorizer(tokenizer=LemNormalize, stop_words='english')\n",
        "    tfidf = TfidfVec.fit_transform(sent_tokens)\n",
        "    vals = cosine_similarity(tfidf[-1], tfidf)\n",
        "    idx=vals.argsort()[0][-2]\n",
        "    flat = vals.flatten()\n",
        "    flat.sort()\n",
        "    req_tfidf = flat[-2]    \n",
        "    if(req_tfidf==0):\n",
        "        robo_response=robo_response+\"I am sorry! I don't understand you\"\n",
        "        return robo_response\n",
        "    else:\n",
        "        robo_response = robo_response+sent_tokens[idx]\n",
        "        return robo_response"
      ],
      "execution_count": 0,
      "outputs": []
    },
    {
      "cell_type": "code",
      "metadata": {
        "id": "ude8uZRd27kB",
        "colab_type": "code",
        "outputId": "3d5ffb0e-52d3-41a7-d9f6-d222aceed0fd",
        "colab": {
          "base_uri": "https://localhost:8080/",
          "height": 1000
        }
      },
      "source": [
        "flag=True\n",
        "print(\"ROBO: My name is Robo. I will answer your queries about Chatbots. If you want to exit, type Bye!\")\n",
        "\n",
        "while(flag==True):\n",
        "    user_response = input()\n",
        "    user_response=user_response.lower()\n",
        "    if(user_response!='bye'):\n",
        "        if(user_response=='thanks' or user_response=='thank you' ):\n",
        "            flag=False\n",
        "            print(\"ROBO: You are welcome..\")\n",
        "        else:\n",
        "            if(greeting(user_response)!=None):\n",
        "                print(\"ROBO: \"+greeting(user_response))\n",
        "            else:\n",
        "                print(\"ROBO: \",end=\"\")\n",
        "                print(response(user_response))\n",
        "                sent_tokens.remove(user_response)\n",
        "    else:\n",
        "        flag=False\n",
        "        print(\"ROBO: Bye! take care..\")"
      ],
      "execution_count": 0,
      "outputs": [
        {
          "output_type": "stream",
          "text": [
            "ROBO: My name is Robo. I will answer your queries about Chatbots. If you want to exit, type Bye!\n",
            "Who is President of Bangladesh?\n"
          ],
          "name": "stdout"
        },
        {
          "output_type": "stream",
          "text": [
            "/usr/local/lib/python3.6/dist-packages/sklearn/feature_extraction/text.py:385: UserWarning: Your stop_words may be inconsistent with your preprocessing. Tokenizing the stop words generated tokens ['ha', 'le', 'u', 'wa'] not in stop_words.\n",
            "  'stop_words.' % sorted(inconsistent))\n"
          ],
          "name": "stderr"
        },
        {
          "output_type": "stream",
          "text": [
            "ROBO: Chittagong, the l...\n",
            "9   The dominant geographic feature is the Ganges ...\n",
            "10  including the Brahmaputra and the Ganges, with...\n",
            "11  Highlands with evergreen forests cover the nor...\n",
            "12  The seacoast features the longest natural sea ...\n",
            "13  The country's biodiversity includes a vast arr...\n",
            "14  Bangladesh forms the largest and eastern part ...\n",
            "15   According to the ancient Indian epics, Ramaya...\n",
            "16  The Bengali ethnicity, speakers of the officia...\n",
            "17  Contents The etymology of Bangladesh (Country ...\n",
            "18  The exact origin of the word Bangla is unknown...\n",
            "19  Other theories point to a Bronze Age proto-Dra...\n",
            "20  The term Bangla denotes both the Bengal region...\n",
            "21  History Main articles: History of Bengal and H...\n",
            "22  Early and medieval periods Vanga Kingdom and e...\n",
            "23  Gauda Kingdom, the first independent unified p...\n",
            "24  Stone Age tools found in Bangladesh indicate h...\n",
            "25  Greek and Roman records of the ancient Gangari...\n",
            "26  The Pala Empire was an imperial power during t...\n",
            "27  The 9th-century ruins of Somapura Mahavihara.\n",
            "President\n"
          ],
          "name": "stdout"
        },
        {
          "output_type": "stream",
          "text": [
            "/usr/local/lib/python3.6/dist-packages/sklearn/feature_extraction/text.py:385: UserWarning: Your stop_words may be inconsistent with your preprocessing. Tokenizing the stop words generated tokens ['ha', 'le', 'u', 'wa'] not in stop_words.\n",
            "  'stop_words.' % sorted(inconsistent))\n"
          ],
          "name": "stderr"
        },
        {
          "output_type": "stream",
          "text": [
            "ROBO: I am sorry! I don't understand you\n",
            "president of Bangladesh\n"
          ],
          "name": "stdout"
        },
        {
          "output_type": "stream",
          "text": [
            "/usr/local/lib/python3.6/dist-packages/sklearn/feature_extraction/text.py:385: UserWarning: Your stop_words may be inconsistent with your preprocessing. Tokenizing the stop words generated tokens ['ha', 'le', 'u', 'wa'] not in stop_words.\n",
            "  'stop_words.' % sorted(inconsistent))\n"
          ],
          "name": "stderr"
        },
        {
          "output_type": "stream",
          "text": [
            "ROBO: Chittagong, the l...\n",
            "9   The dominant geographic feature is the Ganges ...\n",
            "10  including the Brahmaputra and the Ganges, with...\n",
            "11  Highlands with evergreen forests cover the nor...\n",
            "12  The seacoast features the longest natural sea ...\n",
            "13  The country's biodiversity includes a vast arr...\n",
            "14  Bangladesh forms the largest and eastern part ...\n",
            "15   According to the ancient Indian epics, Ramaya...\n",
            "16  The Bengali ethnicity, speakers of the officia...\n",
            "17  Contents The etymology of Bangladesh (Country ...\n",
            "18  The exact origin of the word Bangla is unknown...\n",
            "19  Other theories point to a Bronze Age proto-Dra...\n",
            "20  The term Bangla denotes both the Bengal region...\n",
            "21  History Main articles: History of Bengal and H...\n",
            "22  Early and medieval periods Vanga Kingdom and e...\n",
            "23  Gauda Kingdom, the first independent unified p...\n",
            "24  Stone Age tools found in Bangladesh indicate h...\n",
            "25  Greek and Roman records of the ancient Gangari...\n",
            "26  The Pala Empire was an imperial power during t...\n",
            "27  The 9th-century ruins of Somapura Mahavihara.\n",
            "Bangladesh\n"
          ],
          "name": "stdout"
        },
        {
          "output_type": "stream",
          "text": [
            "/usr/local/lib/python3.6/dist-packages/sklearn/feature_extraction/text.py:385: UserWarning: Your stop_words may be inconsistent with your preprocessing. Tokenizing the stop words generated tokens ['ha', 'le', 'u', 'wa'] not in stop_words.\n",
            "  'stop_words.' % sorted(inconsistent))\n"
          ],
          "name": "stderr"
        },
        {
          "output_type": "stream",
          "text": [
            "ROBO: Chittagong, the l...\n",
            "9   The dominant geographic feature is the Ganges ...\n",
            "10  including the Brahmaputra and the Ganges, with...\n",
            "11  Highlands with evergreen forests cover the nor...\n",
            "12  The seacoast features the longest natural sea ...\n",
            "13  The country's biodiversity includes a vast arr...\n",
            "14  Bangladesh forms the largest and eastern part ...\n",
            "15   According to the ancient Indian epics, Ramaya...\n",
            "16  The Bengali ethnicity, speakers of the officia...\n",
            "17  Contents The etymology of Bangladesh (Country ...\n",
            "18  The exact origin of the word Bangla is unknown...\n",
            "19  Other theories point to a Bronze Age proto-Dra...\n",
            "20  The term Bangla denotes both the Bengal region...\n",
            "21  History Main articles: History of Bengal and H...\n",
            "22  Early and medieval periods Vanga Kingdom and e...\n",
            "23  Gauda Kingdom, the first independent unified p...\n",
            "24  Stone Age tools found in Bangladesh indicate h...\n",
            "25  Greek and Roman records of the ancient Gangari...\n",
            "26  The Pala Empire was an imperial power during t...\n",
            "27  The 9th-century ruins of Somapura Mahavihara.\n"
          ],
          "name": "stdout"
        }
      ]
    }
  ]
}